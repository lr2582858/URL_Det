{
 "cells": [
  {
   "cell_type": "code",
   "execution_count": 1,
   "metadata": {},
   "outputs": [],
   "source": [
    "import pandas as pd\n",
    "import numpy as np\n",
    "\n",
    "import seaborn as sns\n",
    "import matplotlib.pyplot as plt\n",
    "import string\n",
    "\n",
    "import nltk\n",
    "from nltk.corpus import stopwords\n",
    "from sklearn.feature_extraction.text import TfidfVectorizer\n",
    "from sklearn.feature_extraction.text import CountVectorizer \n",
    "from sklearn.feature_extraction.text import TfidfTransformer \n",
    "from sklearn.cluster import KMeans"
   ]
  },
  {
   "cell_type": "code",
   "execution_count": 2,
   "metadata": {},
   "outputs": [
    {
     "data": {
      "text/plain": [
       "(157110, 17)"
      ]
     },
     "execution_count": 2,
     "metadata": {},
     "output_type": "execute_result"
    }
   ],
   "source": [
    "data = pd.read_json('chislab.json',orient=\"split\")\n",
    "data.shape"
   ]
  },
  {
   "cell_type": "code",
   "execution_count": 3,
   "metadata": {},
   "outputs": [],
   "source": [
    "url = pd.DataFrame()\n",
    "url['url'] = data.url"
   ]
  },
  {
   "cell_type": "code",
   "execution_count": 4,
   "metadata": {},
   "outputs": [
    {
     "data": {
      "text/plain": [
       "0       synchrony-proxy v1 bayeux-sync1\n",
       "1       synchrony-proxy v1 bayeux-sync1\n",
       "2    json startheartbeatactivity.action\n",
       "3       synchrony-proxy v1 bayeux-sync1\n",
       "4       synchrony-proxy v1 bayeux-sync1\n",
       "Name: url, dtype: object"
      ]
     },
     "execution_count": 4,
     "metadata": {},
     "output_type": "execute_result"
    }
   ],
   "source": [
    "a = url['url'].str.slice(1).str.split('/')\n",
    "url_str = a.map(lambda x: ' '.join(x)).str.lower()\n",
    "url_str[:5]"
   ]
  },
  {
   "cell_type": "code",
   "execution_count": 5,
   "metadata": {},
   "outputs": [],
   "source": [
    "tfidf_vectorizer = TfidfVectorizer()\n",
    "tfidf_matrix = tfidf_vectorizer.fit_transform(url_str) "
   ]
  },
  {
   "cell_type": "code",
   "execution_count": 6,
   "metadata": {},
   "outputs": [
    {
     "data": {
      "text/plain": [
       "(157110, 1225)"
      ]
     },
     "execution_count": 6,
     "metadata": {},
     "output_type": "execute_result"
    }
   ],
   "source": [
    "url_array = tfidf_matrix.toarray()\n",
    "url_array.shape"
   ]
  },
  {
   "cell_type": "code",
   "execution_count": 7,
   "metadata": {},
   "outputs": [],
   "source": [
    "i = 4\n",
    "clf = KMeans(n_clusters=i)  \n",
    "s = clf.fit(url_array)  "
   ]
  },
  {
   "cell_type": "code",
   "execution_count": 43,
   "metadata": {},
   "outputs": [],
   "source": [
    "centers = clf.cluster_centers_\n",
    "url['class'] = clf.labels_"
   ]
  },
  {
   "cell_type": "code",
   "execution_count": 44,
   "metadata": {},
   "outputs": [
    {
     "name": "stdout",
     "output_type": "stream",
     "text": [
      "Sync1, Bayeux, V1, Proxy, Synchrony, Webresources, Latest, Resources, Navigation, Action, Startheartbeatactivity, Avatar, Json, Attachments, Viewpage, Js, Calendar, 7702, Helptips, Highlighting\n",
      " \n",
      "Bulk, Analytics, Publish, Rest, V1, Bayeux, Sync1, Json, Latest, Resources, Startheartbeatactivity, Action, Capabilities, Attachments, Zh_Cn, Download, Css, Editor, Inlinecomments, Batch\n",
      " \n",
      "Startheartbeatactivity, Json, Action, Proxy, V1, Sync1, Bayeux, Latest, Analytics, Publish, Bulk, Resources, Attachments, Rest, Zh_Cn, C32F84C806260A834C2E109E904A2D8Ee4F8E175, Likes, Download, Inlinecomments, Css\n",
      " \n",
      "Rest, Capabilities, Navigation, Resources, Webresources, Latest, Download, Action, Heartbeat, Status, Mywork, Notification, Count, Quickreload, Plugins, User, Attachments, Avatar, Confluence, Tips\n",
      " \n"
     ]
    }
   ],
   "source": [
    "top = pd.DataFrame(centers.T)\n",
    "top['Name'] = tfidf_vectorizer.get_feature_names()\n",
    "\n",
    "for i in range(i):\n",
    "    top_1 = top.sort_values(i,ascending=False).iloc[:20, :]\n",
    "    a = ', '.join(top_1['Name']).title()\n",
    "    print(str(a))\n",
    "    print(' ')"
   ]
  },
  {
   "cell_type": "code",
   "execution_count": 45,
   "metadata": {},
   "outputs": [],
   "source": [
    "from sklearn.decomposition import PCA\n",
    "pca = PCA(n_components=2)             #输出两维\n",
    "newData = pca.fit_transform(url_array)   #载入N维"
   ]
  },
  {
   "cell_type": "code",
   "execution_count": 46,
   "metadata": {},
   "outputs": [
    {
     "data": {
      "text/html": [
       "<div>\n",
       "<style scoped>\n",
       "    .dataframe tbody tr th:only-of-type {\n",
       "        vertical-align: middle;\n",
       "    }\n",
       "\n",
       "    .dataframe tbody tr th {\n",
       "        vertical-align: top;\n",
       "    }\n",
       "\n",
       "    .dataframe thead th {\n",
       "        text-align: right;\n",
       "    }\n",
       "</style>\n",
       "<table border=\"1\" class=\"dataframe\">\n",
       "  <thead>\n",
       "    <tr style=\"text-align: right;\">\n",
       "      <th></th>\n",
       "      <th>url</th>\n",
       "      <th>class</th>\n",
       "      <th>PCA1</th>\n",
       "      <th>PCA2</th>\n",
       "    </tr>\n",
       "  </thead>\n",
       "  <tbody>\n",
       "    <tr>\n",
       "      <th>0</th>\n",
       "      <td>/synchrony-proxy/v1/bayeux-sync1</td>\n",
       "      <td>0</td>\n",
       "      <td>-0.348733</td>\n",
       "      <td>-0.001162</td>\n",
       "    </tr>\n",
       "    <tr>\n",
       "      <th>1</th>\n",
       "      <td>/synchrony-proxy/v1/bayeux-sync1</td>\n",
       "      <td>0</td>\n",
       "      <td>-0.348733</td>\n",
       "      <td>-0.001162</td>\n",
       "    </tr>\n",
       "    <tr>\n",
       "      <th>2</th>\n",
       "      <td>/json/startheartbeatactivity.action</td>\n",
       "      <td>2</td>\n",
       "      <td>0.764954</td>\n",
       "      <td>0.837007</td>\n",
       "    </tr>\n",
       "    <tr>\n",
       "      <th>3</th>\n",
       "      <td>/synchrony-proxy/v1/bayeux-sync1</td>\n",
       "      <td>0</td>\n",
       "      <td>-0.348733</td>\n",
       "      <td>-0.001162</td>\n",
       "    </tr>\n",
       "    <tr>\n",
       "      <th>4</th>\n",
       "      <td>/synchrony-proxy/v1/bayeux-sync1</td>\n",
       "      <td>0</td>\n",
       "      <td>-0.348733</td>\n",
       "      <td>-0.001162</td>\n",
       "    </tr>\n",
       "  </tbody>\n",
       "</table>\n",
       "</div>"
      ],
      "text/plain": [
       "                                   url  class      PCA1      PCA2\n",
       "0     /synchrony-proxy/v1/bayeux-sync1      0 -0.348733 -0.001162\n",
       "1     /synchrony-proxy/v1/bayeux-sync1      0 -0.348733 -0.001162\n",
       "2  /json/startheartbeatactivity.action      2  0.764954  0.837007\n",
       "3     /synchrony-proxy/v1/bayeux-sync1      0 -0.348733 -0.001162\n",
       "4     /synchrony-proxy/v1/bayeux-sync1      0 -0.348733 -0.001162"
      ]
     },
     "execution_count": 46,
     "metadata": {},
     "output_type": "execute_result"
    }
   ],
   "source": [
    "url['PCA1'] = newData[:,0]\n",
    "url['PCA2'] = newData[:,1]\n",
    "url.head()"
   ]
  },
  {
   "cell_type": "code",
   "execution_count": 47,
   "metadata": {},
   "outputs": [
    {
     "data": {
      "text/plain": [
       "<matplotlib.collections.PathCollection at 0x2b5509b0>"
      ]
     },
     "execution_count": 47,
     "metadata": {},
     "output_type": "execute_result"
    },
    {
     "data": {
      "image/png": "[encoded data removed]",
      "text/plain": [
       "<Figure size 432x432 with 1 Axes>"
      ]
     },
     "metadata": {},
     "output_type": "display_data"
    }
   ],
   "source": [
    "fig = plt.figure(figsize=(6,6))\n",
    "\n",
    "color = ['k', 'r', 'b', 'm', 'g', 'y', 'c']\n",
    "\n",
    "z1 = url[url['class']==0]\n",
    "plt.scatter(z1['PCA1'], z1['PCA2'], color=color[0]) \n",
    "z2 = url[url['class']==1]\n",
    "plt.scatter(z2['PCA1'], z2['PCA2'], color=color[1]) \n",
    "z3 = url[url['class']==2]\n",
    "plt.scatter(z3['PCA1'], z3['PCA2'], color=color[2]) \n",
    "z4 = url[url['class']==3]\n",
    "plt.scatter(z4['PCA1'], z4['PCA2'], color=color[3]) "
   ]
  },
  {
   "cell_type": "code",
   "execution_count": null,
   "metadata": {},
   "outputs": [],
   "source": [
    "#### 运行一次就行 #####\n",
    "from sklearn.manifold import TSNE\n",
    "tsne = TSNE()\n",
    "tsne.fit_transform(url_array)\n",
    "tsne = pd.DataFrame(tsne.embedding_)"
   ]
  }
 ],
 "metadata": {
  "kernelspec": {
   "display_name": "Python 3",
   "language": "python",
   "name": "python3"
  },
  "language_info": {
   "codemirror_mode": {
    "name": "ipython",
    "version": 3
   },
   "file_extension": ".py",
   "mimetype": "text/x-python",
   "name": "python",
   "nbconvert_exporter": "python",
   "pygments_lexer": "ipython3",
   "version": "3.6.6"
  }
 },
 "nbformat": 4,
 "nbformat_minor": 2
}
